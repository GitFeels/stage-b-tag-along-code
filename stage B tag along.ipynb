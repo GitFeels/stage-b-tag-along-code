{
 "cells": [
  {
   "cell_type": "code",
   "execution_count": null,
   "metadata": {},
   "outputs": [],
   "source": [
    "import pandas as pd\n",
    "import numpy as np\n",
    "import seaborn as sns\n",
    "!pip install --upgrade pandas openpyxl\n",
    "import matplotlib.pyplot as plt\n",
    "from sklearn.model_selection import train_test_split\n",
    "from sklearn.linear_model import LinearRegression\n",
    "from sklearn.metrics import r2_score, mean_squared_error"
   ]
  },
  {
   "cell_type": "code",
   "execution_count": null,
   "metadata": {},
   "outputs": [],
   "source": [
    "data = pd.read_csv(\"C:\\Users\\HP\\Downloads\\energydata_complete.csv\")"
   ]
  },
  {
   "cell_type": "code",
   "execution_count": null,
   "metadata": {},
   "outputs": [],
   "source": [
    "data"
   ]
  },
  {
   "cell_type": "code",
   "execution_count": null,
   "metadata": {},
   "outputs": [],
   "source": [
    "# Viewing the dataset\n",
    "data.head()\n",
    "\n",
    "data.tail()\n"
   ]
  },
  {
   "cell_type": "code",
   "execution_count": null,
   "metadata": {},
   "outputs": [],
   "source": [
    "# Exploring the dataset\n",
    "data.shape\n",
    "\n",
    "data.info()\n",
    "\n",
    "data.isnull().sum()"
   ]
  },
  {
   "cell_type": "code",
   "execution_count": null,
   "metadata": {},
   "outputs": [],
   "source": [
    "#Q17\n",
    "# From the dataset, fit a linear model on the relationship between the temperature in the living room in Celsius (x = T2) and the temperature outside the building (y = T6). What is the Root Mean Squared error in three D.P?\n",
    "\n",
    "import pandas as pd\n",
    "from sklearn.model_selection import train_test_split\n",
    "from sklearn.linear_model import LinearRegression\n",
    "from sklearn.metrics import mean_squared_error, r2_score, mean_absolute_error\n",
    "import math\n",
    "from sklearn.preprocessing import MinMaxScaler\n",
    "from sklearn.linear_model import Ridge\n",
    "from sklearn.linear_model import Lasso\n",
    "\n",
    "y = data[\"T6\"]\n",
    "x = data[\"T2\"]\n"
   ]
  },
  {
   "cell_type": "code",
   "execution_count": null,
   "metadata": {},
   "outputs": [],
   "source": [
    "x_train, x_test, y_train, y_test = train_test_split(x, y, test_size=0.2, random_state=42)"
   ]
  },
  {
   "cell_type": "code",
   "execution_count": null,
   "metadata": {},
   "outputs": [],
   "source": [
    "x"
   ]
  },
  {
   "cell_type": "code",
   "execution_count": null,
   "metadata": {},
   "outputs": [],
   "source": [
    "model = LinearRegression()\n",
    "x_train_2d = x_train.values.reshape(-1, 1)\n",
    "model.fit(x_train_2d, y_train)\n",
    "\n",
    "x_test_2d = x_test.values.reshape(-1, 1)\n",
    "y_pred = model.predict(x_test_2d)"
   ]
  },
  {
   "cell_type": "code",
   "execution_count": null,
   "metadata": {},
   "outputs": [],
   "source": [
    "x_test"
   ]
  },
  {
   "cell_type": "code",
   "execution_count": null,
   "metadata": {},
   "outputs": [],
   "source": [
    "y_pred"
   ]
  },
  {
   "cell_type": "code",
   "execution_count": null,
   "metadata": {},
   "outputs": [],
   "source": [
    "mse = mean_squared_error(y_test, y_pred)\n",
    "r2 = r2_score(y_test, y_pred)"
   ]
  },
  {
   "cell_type": "code",
   "execution_count": null,
   "metadata": {},
   "outputs": [],
   "source": [
    "print(f\"MSE => {round(mse, 2)}\") \n",
    "print(f\"R2 => {round(r2, 2)}\")\n",
    "\n",
    "# Root Mean Squared error in three dp?\n",
    "print(f\"RMSE => {round (np.sqrt(mse), 3)}\")"
   ]
  },
  {
   "cell_type": "code",
   "execution_count": null,
   "metadata": {},
   "outputs": [],
   "source": [
    "#Q18\n",
    "# Remove the following columns: [“date”, “lights”]. The target variable is “Appliances”. Use a 70-30 train-test set split with a random state of 42 (for reproducibility). Normalize the dataset using the MinMaxScaler (Hint: Use the MinMaxScaler fit_transform and transform methods on the train and test set respectively). Run a multiple linear regression using the training set. Answer the following questions:\n",
    "\n",
    "x = data.drop(columns=[\"date\", \"lights\", \"Appliances\"])\n",
    "y = data[\"Appliances\"]\n",
    "\n",
    "scaler = MinMaxScaler()\n",
    "#scaler = scaler.fit(x_train)\n",
    "x_train_scaled = scaler.fit_transform(x_train)\n",
    "x_test_scaled = scaler.transform(x_test)\n",
    "\n",
    "# Fitting model to the training data\n",
    "model = LinearRegression()\n",
    "model.fit(x_train_scaled, y_train)\n",
    "\n",
    "y_pred = model.predict(x_test_scaled)\n",
    "\n",
    "mae = mean_absolute_error(y_test, y_pred)\n",
    "mse = mean_squared_error(y_test, y_pred)\n",
    "r2 = r2_score(y_test, y_pred)\n",
    "\n",
    "print(f\"MAE => {round(mae, 3)}\")\n",
    "print(f\"MSE => {round(mse, 3)}\") \n",
    "print(f\"R2 => {round(r2, 3)}\")\n",
    "\n",
    "# Mean Absolute Error in 3dp for the  training set\n",
    "print(f\"MAE => {round(mae, 3)}\")"
   ]
  },
  {
   "cell_type": "code",
   "execution_count": null,
   "metadata": {},
   "outputs": [],
   "source": [
    "#Q19\n",
    "\n",
    "# What is the Root Mean Squared Error (in three decimal places) for the training set?\n",
    "mse_train = mean_squared_error(y_train, y_train_pred)\n",
    "\n",
    "rmse_train = mean_squared_error(y_train, y_train_pred, squared=False)\n",
    "\n",
    "print(f\"RMSE for the training set => {round (rmse_train, 3)}\")\n"
   ]
  },
  {
   "cell_type": "code",
   "execution_count": null,
   "metadata": {},
   "outputs": [],
   "source": [
    "#Q20\n",
    "\n",
    "# What is the Mean Absolute Error (in three decimal places) for test set?\n",
    "print(f\"MAE for the test set => {round (mae_test, 3)}\")\n"
   ]
  },
  {
   "cell_type": "code",
   "execution_count": null,
   "metadata": {},
   "outputs": [],
   "source": [
    "#Q21\n",
    "\n",
    "# What is the Root Mean Squared Error (in three decimal places) for test set?\n",
    "print(f\"RMSE => {round (np.sqrt(mse), 3)}\")"
   ]
  },
  {
   "cell_type": "code",
   "execution_count": null,
   "metadata": {},
   "outputs": [],
   "source": [
    "#Q23\n",
    "\n",
    "#Ridge regression model\n",
    "ridge_model = Ridge()\n",
    "\n",
    "# Fitting the model on the scaled training dataset\n",
    "ridge_model.fit(x_train_scaled, y_train)\n",
    "\n",
    "y_pred_ridge = ridge_model.predict(x_test_scaled)\n",
    "\n",
    "rmse_test_ridge = np.sqrt(mean_squared_error(y_test, y_pred_ridge))\n",
    "\n",
    "print(f\"RMSE for the test set with Ridge Regression => {round (rmse_test_ridge, 3)}\")\n",
    " \n",
    "# Is there any change to the root mean squared error (RMSE) when evaluated on the test set?\n",
    "#no"
   ]
  },
  {
   "cell_type": "code",
   "execution_count": null,
   "metadata": {},
   "outputs": [],
   "source": [
    "\n",
    "#Q24\n",
    "\n",
    "#  How many of the features have non-zero feature weights?\n",
    "\n",
    "# Lasso Regression Model\n",
    "lasso_model = Lasso()\n",
    "\n",
    "# Fitting the model on the scaled training dataset\n",
    "lasso_model.fit(x_train_scaled, y_train)\n",
    "\n",
    "#feature weights\n",
    "feature_weights = lasso_model.coef_\n",
    "\n",
    "#number of features with non-zero weights\n",
    "non_zero_weights = np.count_nonzero(feature_weights)\n",
    "\n",
    "print(f\"Number of features with non-zero weights => {non_zero_weights}\")\n"
   ]
  },
  {
   "cell_type": "code",
   "execution_count": null,
   "metadata": {},
   "outputs": [],
   "source": [
    "#Q25\n",
    "# # What is the new RMSE with the Lasso Regression on the test set?\n",
    "\n",
    "# Predictimg the Lasso model output\n",
    "y_pred_lasso = lasso_model.predict(x_test_scaled)\n",
    "\n",
    "rmse_test_lasso = np.sqrt(mean_squared_error(y_test, y_pred_lasso))\n",
    "\n",
    "print(f\"RMSE for the test set with Lasso Regression => {round (rmse_test_lasso, 3)}\")"
   ]
  }
 ],
 "metadata": {
  "language_info": {
   "name": "python"
  }
 },
 "nbformat": 4,
 "nbformat_minor": 2
}
